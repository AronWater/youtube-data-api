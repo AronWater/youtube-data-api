{
 "cells": [
  {
   "cell_type": "code",
   "execution_count": 49,
   "metadata": {},
   "outputs": [
    {
     "name": "stdout",
     "output_type": "stream",
     "text": [
      "Updated 2018-06-02 14:33:57.440545\n",
      "By mab1242\n",
      "Using Python 3.6.3\n",
      "On Linux-3.10.0-514.10.2.el7.x86_64-x86_64-with-centos-7.3.1611-Core\n"
     ]
    }
   ],
   "source": [
    "import os\n",
    "import time\n",
    "import sys\n",
    "import json\n",
    "import requests\n",
    "import datetime\n",
    "from collections import OrderedDict\n",
    "import pandas as pd\n",
    "\n",
    "\n",
    "    \n",
    "key = os.environ.get('YT_API')\n",
    "\n",
    "from runtimestamp.runtimestamp import runtimestamp\n",
    "runtimestamp()"
   ]
  },
  {
   "cell_type": "code",
   "execution_count": 50,
   "metadata": {
    "collapsed": true
   },
   "outputs": [],
   "source": [
    "def parse_comment_metadata(item):\n",
    "    \"\"\"\n",
    "    Parses JSON object for comment metadata\n",
    "\n",
    "    \"\"\"\n",
    "    \n",
    "    if item['snippet'].get('topLevelComment'):\n",
    "        item = item['snippet']['topLevelComment']\n",
    "        \n",
    "    comment_meta = OrderedDict(\n",
    "        \n",
    "        commenter_channel_url = item[\"snippet\"].get(\"authorChannelUrl\"),\n",
    "        commenter_channel_display_name = item['snippet'].get('authorDisplayName'),\n",
    "        comment_id = item.get(\"id\"),\n",
    "        comment_like_count = item[\"snippet\"].get(\"likeCount\"),\n",
    "        comment_publish_date = parse_yt_datetime(item[\"snippet\"].get(\"publishedAt\")),\n",
    "        text = item[\"snippet\"].get(\"textDisplay\"),\n",
    "        video_id = item[\"snippet\"].get(\"videoId\"),\n",
    "        commenter_rating = item[\"snippet\"].get(\"viewerRating\"),\n",
    "        comment_parent_id = item[\"snippet\"].get(\"parentId\"),\n",
    "        collection_date = datetime.datetime.now()\n",
    "        \n",
    "    )\n",
    "    \n",
    "    return comment_meta"
   ]
  },
  {
   "cell_type": "code",
   "execution_count": 51,
   "metadata": {
    "collapsed": true
   },
   "outputs": [],
   "source": [
    "def parse_yt_datetime(date_str):\n",
    "    date = None\n",
    "    if date_str:\n",
    "        try: \n",
    "            date = datetime.datetime.strptime(date_str,\"%Y-%m-%dT%H:%M:%S.%fZ\")\n",
    "        except:\n",
    "            pass\n",
    "    return date"
   ]
  },
  {
   "cell_type": "code",
   "execution_count": 69,
   "metadata": {
    "collapsed": true
   },
   "outputs": [],
   "source": [
    "def get_comments(video_id, key, get_replies=True):\n",
    "    \n",
    "    comments = []\n",
    "    \n",
    "    init_http_endpoint = (\"https://www.googleapis.com/youtube/v3/commentThreads?\"\n",
    "                         \"part=snippet&textFormat=plainText&maxResults=100&\"\n",
    "                         \"videoId={}&key={}\".format(video_id,key))\n",
    "    \n",
    "    response = requests.get(init_http_endpoint)\n",
    "    \n",
    "    json_doc = json.loads(response.text)\n",
    "    \n",
    "    comments = [parse_comment_metadata(comment) for comment in json_doc['items']]\n",
    "    \n",
    "    while json_doc.get('nextPageToken'):\n",
    "        token = json_doc.get('nextPageToken')\n",
    "        new_http_endpoint = (\"https://www.googleapis.com/youtube/v3/commentThreads?\"\n",
    "                         \"part=snippet&textFormat=plainText&maxResults=100&\"\n",
    "                         \"videoId={}&key={}&pageToken={}\".format(video_id,key,token))\n",
    "        response = requests.get(new_http_endpoint)\n",
    "        json_doc = json.loads(response.text)\n",
    "        comments.extend([parse_comment_metadata(comment) for comment in json_doc['items']])\n",
    "        \n",
    "    if get_replies:\n",
    "        for comment in comments:\n",
    "            reply_http_endpoint = (\"https://www.googleapis.com/youtube/v3/comments?\"\n",
    "                         \"part=snippet&textFormat=plainText&maxResults=100&\"\n",
    "                         \"parentId={}&key={}\".format(comment['comment_id'],key))\n",
    "            response = requests.get(reply_http_endpoint)\n",
    "            json_doc = json.loads(response.text)\n",
    "            comments.extend([parse_comment_metadata(comment) for comment in json_doc['items']])\n",
    "            \n",
    "            \n",
    "    return comments"
   ]
  },
  {
   "cell_type": "code",
   "execution_count": 70,
   "metadata": {
    "collapsed": true
   },
   "outputs": [],
   "source": [
    "comet = get_comments(video_id, key)"
   ]
  },
  {
   "cell_type": "code",
   "execution_count": 71,
   "metadata": {},
   "outputs": [
    {
     "data": {
      "text/plain": [
       "679"
      ]
     },
     "execution_count": 71,
     "metadata": {},
     "output_type": "execute_result"
    }
   ],
   "source": [
    "len(comet)"
   ]
  },
  {
   "cell_type": "code",
   "execution_count": 72,
   "metadata": {},
   "outputs": [
    {
     "data": {
      "text/plain": [
       "[OrderedDict([('commenter_channel_url',\n",
       "               'http://www.youtube.com/channel/UCV1FkeifGocTQp3UUTj4B3A'),\n",
       "              ('commenter_channel_display_name', 'Oopss7'),\n",
       "              ('comment_id', 'UgwAvyGsdNUM7aUTJoF4AaABAg'),\n",
       "              ('comment_like_count', 0),\n",
       "              ('comment_publish_date',\n",
       "               datetime.datetime(2018, 6, 2, 18, 45, 21)),\n",
       "              ('text',\n",
       "               'The reference to the \"you, senator, are no JFK right at the end\"'),\n",
       "              ('video_id', 'SH9v7zauRH4'),\n",
       "              ('commenter_rating', 'none'),\n",
       "              ('comment_parent_id', None),\n",
       "              ('collection_date',\n",
       "               datetime.datetime(2018, 6, 2, 14, 48, 31, 382114))]),\n",
       " OrderedDict([('commenter_channel_url',\n",
       "               'http://www.youtube.com/channel/UCZa6r_r7u-lKvCtZars4fOg'),\n",
       "              ('commenter_channel_display_name', 'Isasiah Bradley'),\n",
       "              ('comment_id', 'UgyDB5133Oz330bygjB4AaABAg'),\n",
       "              ('comment_like_count', 0),\n",
       "              ('comment_publish_date',\n",
       "               datetime.datetime(2018, 6, 2, 18, 33, 35)),\n",
       "              ('text', 'I got $5 on Kimmel.'),\n",
       "              ('video_id', 'SH9v7zauRH4'),\n",
       "              ('commenter_rating', 'none'),\n",
       "              ('comment_parent_id', None),\n",
       "              ('collection_date',\n",
       "               datetime.datetime(2018, 6, 2, 14, 48, 31, 382150))]),\n",
       " OrderedDict([('commenter_channel_url',\n",
       "               'http://www.youtube.com/channel/UCH1bzKKmuHE7adeyhWBd8aQ'),\n",
       "              ('commenter_channel_display_name', 'awwwkitteh'),\n",
       "              ('comment_id', 'Ugy4TSkQk-b9mDBBm_F4AaABAg'),\n",
       "              ('comment_like_count', 0),\n",
       "              ('comment_publish_date',\n",
       "               datetime.datetime(2018, 6, 2, 18, 20, 50)),\n",
       "              ('text', 'Jimmy, a man of his words.'),\n",
       "              ('video_id', 'SH9v7zauRH4'),\n",
       "              ('commenter_rating', 'none'),\n",
       "              ('comment_parent_id', None),\n",
       "              ('collection_date',\n",
       "               datetime.datetime(2018, 6, 2, 14, 48, 31, 382176))]),\n",
       " OrderedDict([('commenter_channel_url',\n",
       "               'http://www.youtube.com/channel/UC-VFd06DnK-Zj1y-uhJ-wVg'),\n",
       "              ('commenter_channel_display_name', 'tomitstube'),\n",
       "              ('comment_id', 'UgxZm8Z8HY_KVUOQvx14AaABAg'),\n",
       "              ('comment_like_count', 0),\n",
       "              ('comment_publish_date',\n",
       "               datetime.datetime(2018, 6, 2, 18, 18, 41)),\n",
       "              ('text',\n",
       "               'ted cruz is like 5\\' 8\", who is this guy kidding?   and make ted cruz give the 5 grand to planned parenthood.'),\n",
       "              ('video_id', 'SH9v7zauRH4'),\n",
       "              ('commenter_rating', 'none'),\n",
       "              ('comment_parent_id', None),\n",
       "              ('collection_date',\n",
       "               datetime.datetime(2018, 6, 2, 14, 48, 31, 382200))]),\n",
       " OrderedDict([('commenter_channel_url',\n",
       "               'http://www.youtube.com/channel/UCCxxmYWb9N-wUTC75O4Bt6Q'),\n",
       "              ('commenter_channel_display_name', 'David'),\n",
       "              ('comment_id', 'UgwmCWIRLZPYtI99REx4AaABAg'),\n",
       "              ('comment_like_count', 0),\n",
       "              ('comment_publish_date',\n",
       "               datetime.datetime(2018, 6, 2, 17, 21, 1)),\n",
       "              ('text', 'Hit him with the Hinnnne Jimmy!'),\n",
       "              ('video_id', 'SH9v7zauRH4'),\n",
       "              ('commenter_rating', 'none'),\n",
       "              ('comment_parent_id', None),\n",
       "              ('collection_date',\n",
       "               datetime.datetime(2018, 6, 2, 14, 48, 31, 382224))]),\n",
       " OrderedDict([('commenter_channel_url',\n",
       "               'http://www.youtube.com/channel/UCYK_VBG_9OESY5S9P42qKkg'),\n",
       "              ('commenter_channel_display_name', 'The Centrist'),\n",
       "              ('comment_id', 'UgzLQlnlkwJLIhEocVt4AaABAg'),\n",
       "              ('comment_like_count', 0),\n",
       "              ('comment_publish_date',\n",
       "               datetime.datetime(2018, 6, 2, 17, 13, 24)),\n",
       "              ('text',\n",
       "               \"I don't think Ted is going to lose, politically speaking.\"),\n",
       "              ('video_id', 'SH9v7zauRH4'),\n",
       "              ('commenter_rating', 'none'),\n",
       "              ('comment_parent_id', None),\n",
       "              ('collection_date',\n",
       "               datetime.datetime(2018, 6, 2, 14, 48, 31, 382249))]),\n",
       " OrderedDict([('commenter_channel_url',\n",
       "               'http://www.youtube.com/channel/UCJIN2MRIHxNnbtKPie1B3HA'),\n",
       "              ('commenter_channel_display_name', 'darin taylor'),\n",
       "              ('comment_id', 'Ugy0yzFwfVc-MioxwKN4AaABAg'),\n",
       "              ('comment_like_count', 0),\n",
       "              ('comment_publish_date',\n",
       "               datetime.datetime(2018, 6, 2, 16, 58, 47)),\n",
       "              ('text', 'on the Man Show you were funny and now meh'),\n",
       "              ('video_id', 'SH9v7zauRH4'),\n",
       "              ('commenter_rating', 'none'),\n",
       "              ('comment_parent_id', None),\n",
       "              ('collection_date',\n",
       "               datetime.datetime(2018, 6, 2, 14, 48, 31, 382273))]),\n",
       " OrderedDict([('commenter_channel_url',\n",
       "               'http://www.youtube.com/channel/UCKs-KNiDbRC3Ni6k-Yo_pyA'),\n",
       "              ('commenter_channel_display_name', 'paladinbob 123'),\n",
       "              ('comment_id', 'UgxjvBCAdCyzrf0af2R4AaABAg'),\n",
       "              ('comment_like_count', 0),\n",
       "              ('comment_publish_date',\n",
       "               datetime.datetime(2018, 6, 2, 16, 55, 10)),\n",
       "              ('text',\n",
       "               'hope kimmel wins and ted is forced to give money to a charity that deals with the aftermath of gun shootings at American schools. Then at least , he\\xa0[ted] would have done something decent for the victims in his own state\\xa0:D'),\n",
       "              ('video_id', 'SH9v7zauRH4'),\n",
       "              ('commenter_rating', 'none'),\n",
       "              ('comment_parent_id', None),\n",
       "              ('collection_date',\n",
       "               datetime.datetime(2018, 6, 2, 14, 48, 31, 382298))]),\n",
       " OrderedDict([('commenter_channel_url',\n",
       "               'http://www.youtube.com/channel/UCH2fGmFho_AqDurh4E3EnwQ'),\n",
       "              ('commenter_channel_display_name', 'mark anthony'),\n",
       "              ('comment_id', 'UgyFcQPXxCjA1tITMHR4AaABAg'),\n",
       "              ('comment_like_count', 0),\n",
       "              ('comment_publish_date',\n",
       "               datetime.datetime(2018, 6, 2, 16, 39, 41)),\n",
       "              ('text', 'Jimmy u pusssssssssy'),\n",
       "              ('video_id', 'SH9v7zauRH4'),\n",
       "              ('commenter_rating', 'none'),\n",
       "              ('comment_parent_id', None),\n",
       "              ('collection_date',\n",
       "               datetime.datetime(2018, 6, 2, 14, 48, 31, 382321))]),\n",
       " OrderedDict([('commenter_channel_url',\n",
       "               'http://www.youtube.com/channel/UC0Rl-1drs7uPvODzlA8v8EQ'),\n",
       "              ('commenter_channel_display_name', 'Marie'),\n",
       "              ('comment_id', 'UgyYKoK_R772eoWELQB4AaABAg'),\n",
       "              ('comment_like_count', 0),\n",
       "              ('comment_publish_date',\n",
       "               datetime.datetime(2018, 6, 2, 16, 20, 18)),\n",
       "              ('text',\n",
       "               'Damn Ted Cruz will need a lot of aloe vera after this'),\n",
       "              ('video_id', 'SH9v7zauRH4'),\n",
       "              ('commenter_rating', 'none'),\n",
       "              ('comment_parent_id', None),\n",
       "              ('collection_date',\n",
       "               datetime.datetime(2018, 6, 2, 14, 48, 31, 382345))])]"
      ]
     },
     "execution_count": 72,
     "metadata": {},
     "output_type": "execute_result"
    }
   ],
   "source": [
    "comet[:10]"
   ]
  },
  {
   "cell_type": "code",
   "execution_count": null,
   "metadata": {
    "collapsed": true
   },
   "outputs": [],
   "source": []
  }
 ],
 "metadata": {
  "kernelspec": {
   "display_name": "Python 3",
   "language": "python",
   "name": "python3"
  },
  "language_info": {
   "codemirror_mode": {
    "name": "ipython",
    "version": 3
   },
   "file_extension": ".py",
   "mimetype": "text/x-python",
   "name": "python",
   "nbconvert_exporter": "python",
   "pygments_lexer": "ipython3",
   "version": "3.6.3"
  }
 },
 "nbformat": 4,
 "nbformat_minor": 2
}
