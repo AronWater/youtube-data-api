{
 "cells": [
  {
   "cell_type": "code",
   "execution_count": 1,
   "metadata": {
    "collapsed": true
   },
   "outputs": [],
   "source": [
    "#Import necessary libraries and load api keys\n",
    "import requests\n",
    "import json\n",
    "import pandas as pd\n",
    "from pandas.io.json import json_normalize\n",
    "\n",
    "\n",
    "key_file_loc = \"C:/Users/CodeAlias/Desktop/tweepy_auth.txt\"\n",
    "output_loc = \"USER OUTPUT LOC\"\n",
    "\n",
    "with open(key_file_loc) as f: keys = dict(x.rstrip().split(None,1) for x in f)\n",
    "    \n",
    "key = keys['ytapi']\n",
    "\n"
   ]
  },
  {
   "cell_type": "code",
   "execution_count": 2,
   "metadata": {
    "collapsed": true
   },
   "outputs": [],
   "source": [
    "def get_user_frame(channels):\n",
    "    \n",
    "    chunks = [channels[i:i + 50] for i in range(0, len(channels), 50)]\n",
    "    users = pd.DataFrame()\n",
    "    for chunk in chunks:\n",
    "        channel = \",\".join(chunk)\n",
    "        url = \"https://www.googleapis.com/youtube/v3/channels?part=brandingSettings,contentDetails,snippet,statistics,status,topicDetails&id={}&key={}\".format(channel,key)\n",
    "        response = requests.get(url)\n",
    "        json_doc = json.loads(response.text)\n",
    "\n",
    "        new_users = pd.concat([json_normalize(doc) for doc in json_doc['items']])\n",
    "        users = users.append(new_users, ignore_index = True)\n",
    "    return users"
   ]
  },
  {
   "cell_type": "code",
   "execution_count": null,
   "metadata": {
    "collapsed": true
   },
   "outputs": [],
   "source": [
    "channels = []\n",
    "\n",
    "user_frame = get_user_frame(channels)\n",
    "\n",
    "user_frame.to_csv(output_loc)"
   ]
  }
 ],
 "metadata": {
  "kernelspec": {
   "display_name": "Python 3",
   "language": "python",
   "name": "python3"
  },
  "language_info": {
   "codemirror_mode": {
    "name": "ipython",
    "version": 3
   },
   "file_extension": ".py",
   "mimetype": "text/x-python",
   "name": "python",
   "nbconvert_exporter": "python",
   "pygments_lexer": "ipython3",
   "version": "3.6.3"
  }
 },
 "nbformat": 4,
 "nbformat_minor": 2
}
