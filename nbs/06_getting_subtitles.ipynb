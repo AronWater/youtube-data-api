{
 "cells": [
  {
   "cell_type": "code",
   "execution_count": 1,
   "metadata": {
    "collapsed": true
   },
   "outputs": [],
   "source": [
    "#import necessary classes\n",
    "import requests\n",
    "import urllib3\n",
    "from selenium import webdriver\n",
    "from bs4 import BeautifulSoup, NavigableString, Tag, Comment\n",
    "import re\n",
    "urllib3.disable_warnings()\n",
    "#warnings.filterwarnings('ignore')\n",
    "\n",
    "chrome_exe_path = \"C:/Users/CodeAlias/Anaconda3/lib/site-packages/selenium/webdriver/common/chromedriver.exe\"\n",
    "\n",
    "headers = {\n",
    "    \"User-Agent\" : (\n",
    "        \"Mozilla/5.0 (X11; Ubuntu; Linux x86_64; rv:54.0)\"\n",
    "        \" Gecko/20100101 Firefox/54.0\")\n",
    "}\n",
    "\n",
    "key_file_loc = \"C:/Users/CodeAlias/Desktop/tweepy_auth.txt\"\n",
    "\n",
    "with open(key_file_loc) as f: keys = dict(x.rstrip().split(None,1) for x in f)\n",
    "    "
   ]
  },
  {
   "cell_type": "code",
   "execution_count": 2,
   "metadata": {
    "collapsed": true
   },
   "outputs": [],
   "source": [
    "query = \"https://www.youtube.com/api/timedtext?\"\n",
    "\n",
    "#lang={}&v={}&caps=asr\".format('en',\"32n4h0kn-88\")"
   ]
  },
  {
   "cell_type": "code",
   "execution_count": 3,
   "metadata": {
    "collapsed": true
   },
   "outputs": [],
   "source": [
    "session = requests.Session()\n",
    "\n",
    "driver = webdriver.Chrome(chrome_exe_path)\n",
    "driver.get(\"https://youtube.com\")\n",
    "\n",
    "cookies = driver.get_cookies()\n",
    "for cookie in cookies: session.cookies.set(cookie['name'], cookie['value'])"
   ]
  },
  {
   "cell_type": "code",
   "execution_count": 4,
   "metadata": {},
   "outputs": [
    {
     "data": {
      "text/plain": [
       "[{'domain': '.youtube.com',\n",
       "  'httpOnly': True,\n",
       "  'name': 'YSC',\n",
       "  'path': '/',\n",
       "  'secure': False,\n",
       "  'value': 'UWk8UUJdNho'},\n",
       " {'domain': '.youtube.com',\n",
       "  'expiry': 1586898100,\n",
       "  'httpOnly': False,\n",
       "  'name': 'PREF',\n",
       "  'path': '/',\n",
       "  'secure': False,\n",
       "  'value': 'f4=4000000'},\n",
       " {'domain': '.youtube.com',\n",
       "  'expiry': 1539378098.675552,\n",
       "  'httpOnly': True,\n",
       "  'name': 'VISITOR_INFO1_LIVE',\n",
       "  'path': '/',\n",
       "  'secure': False,\n",
       "  'value': '0knwI9-eNoA'}]"
      ]
     },
     "execution_count": 4,
     "metadata": {},
     "output_type": "execute_result"
    }
   ],
   "source": [
    "cookies"
   ]
  },
  {
   "cell_type": "code",
   "execution_count": 20,
   "metadata": {
    "collapsed": true
   },
   "outputs": [],
   "source": [
    "params = dict(#caps = \"\",\n",
    "              #xorp = True,\n",
    "              #expire = 1523511158,\n",
    "              #sparams = \"caps,v,xorp,expire,\",\n",
    "              #signature = \"1DB8F378806B7E0319AED79A7133591EDE3B8C45.3B2C563CAA9D2CC72FD11A1FD6AE00FC931FCB6A\",\n",
    "              #key = 'yttt1',\n",
    "              v = 'l5LwnDv9SuQ',\n",
    "              #hl = 'en_US',\n",
    "              lang = 'en',\n",
    "              name = 'en',\n",
    "              fmt = 'srv3')\n",
    "\n",
    "asr_params = dict(asr_langs = \"de,es,ru,nl,ja,pt,en,fr,ko,it\",\n",
    "                  hl = \"en_US\",\n",
    "                  v = \"l5LwnDv9SuQ\",\n",
    "                  signature = \"5DE5354EE6974B5B503EC6602420B01FC45CC5F2.5C1F78B0DEA86E21AEDEC9A5960CE1F701F6956F\",\n",
    "                  sparams = \"asr_langs,caps,v,xorp,expire\",\n",
    "                  caps = \"asr\",\n",
    "                  expire = \"1623510667\",\n",
    "                  xorp = True,\n",
    "                  key = \"yttt1\",\n",
    "                  kind = \"asr\",\n",
    "                  lang = \"en\",\n",
    "                  fmt = \"srv3\")"
   ]
  },
  {
   "cell_type": "code",
   "execution_count": 20,
   "metadata": {
    "collapsed": true
   },
   "outputs": [],
   "source": [
    "def tag_visible(element):\n",
    "    if element.parent.name in ['style', 'script', 'head', 'title', 'meta', '[document]', 'font']:\n",
    "        return False\n",
    "    if isinstance(element, Comment):\n",
    "        return False\n",
    "    return True"
   ]
  },
  {
   "cell_type": "code",
   "execution_count": 21,
   "metadata": {
    "collapsed": true
   },
   "outputs": [],
   "source": [
    "def text_from_html(body):\n",
    "    soup = BeautifulSoup(body, 'html.parser')\n",
    "    texts = soup.findAll(text=True)\n",
    "    visible_texts = filter(tag_visible, texts)  \n",
    "    string = u\" \".join(t.strip() for t in visible_texts)\n",
    "    return re.sub(r\"[\\n\\t]\", ' ', string)"
   ]
  },
  {
   "cell_type": "code",
   "execution_count": 23,
   "metadata": {
    "collapsed": true
   },
   "outputs": [],
   "source": [
    "seth_vid = text_from_html(session.get(query, params = params, headers=headers).text)"
   ]
  },
  {
   "cell_type": "code",
   "execution_count": 24,
   "metadata": {},
   "outputs": [
    {
     "data": {
      "text/plain": [
       "''"
      ]
     },
     "execution_count": 24,
     "metadata": {},
     "output_type": "execute_result"
    }
   ],
   "source": [
    "seth_vid"
   ]
  },
  {
   "cell_type": "code",
   "execution_count": null,
   "metadata": {
    "collapsed": true
   },
   "outputs": [],
   "source": []
  },
  {
   "cell_type": "code",
   "execution_count": 25,
   "metadata": {
    "collapsed": true
   },
   "outputs": [],
   "source": [
    "john_vid = text_from_html(session.get(query, params = asr_params, headers=headers).text)"
   ]
  },
  {
   "cell_type": "code",
   "execution_count": 26,
   "metadata": {},
   "outputs": [
    {
     "data": {
      "text/plain": [
       "'      404.  That’s an error.  The requested URL /api/timedtext?asr_langs=de%2Ces%2Cru%2Cnl%2Cja%2Cpt%2Cen%2Cfr%2Cko%2Cit&hl=en_US&v=l5LwnDv9SuQ&signature=5DE5354EE6974B5B503EC6602420B01FC45CC5F2.5C1F78B0DEA86E21AEDEC9A5960CE1F701F6956F&sparams=asr_langs%2Ccaps%2Cv%2Cxorp%2Cexpire&caps=asr&expire=1623510667&xorp=True&key=yttt1&kind=asr&lang=en&fmt=srv3 was not found on this server. That’s all we know. '"
      ]
     },
     "execution_count": 26,
     "metadata": {},
     "output_type": "execute_result"
    }
   ],
   "source": [
    "john_vid"
   ]
  },
  {
   "cell_type": "code",
   "execution_count": 4,
   "metadata": {
    "collapsed": true
   },
   "outputs": [],
   "source": [
    "from pytube import YouTube"
   ]
  },
  {
   "cell_type": "code",
   "execution_count": 29,
   "metadata": {
    "collapsed": true
   },
   "outputs": [],
   "source": [
    "yt = YouTube('https://www.youtube.com/watch?v=PMEG5W_VZQo')"
   ]
  },
  {
   "cell_type": "code",
   "execution_count": 30,
   "metadata": {},
   "outputs": [
    {
     "data": {
      "text/plain": [
       "[<Caption lang=\"English - en\" code=\"en\">]"
      ]
     },
     "execution_count": 30,
     "metadata": {},
     "output_type": "execute_result"
    }
   ],
   "source": [
    "yt.captions.all()"
   ]
  },
  {
   "cell_type": "code",
   "execution_count": 31,
   "metadata": {
    "collapsed": true
   },
   "outputs": [],
   "source": [
    "captions = yt.captions.get_by_language_code('en')"
   ]
  },
  {
   "cell_type": "code",
   "execution_count": 40,
   "metadata": {
    "collapsed": true
   },
   "outputs": [],
   "source": [
    "clean_cap = captions.xml_captions"
   ]
  },
  {
   "cell_type": "code",
   "execution_count": 46,
   "metadata": {},
   "outputs": [
    {
     "data": {
      "text/plain": [
       "'1\\n000:000:00,266 --> 000:000:02,435\\n\\t\\t\\t\\t\\t\\t♪♪♪♪\\n\\n2\\n000:000:02,435 --> 000:000:03,670\\n\\t\\t-That\\'s Aubrey, \\t\\t\\t\\tand I\\'m Seth.\\n\\n3\\n000:000:03,670 --> 000:000:06,206\\n\\t\\t\\t\\tThese are our \\t\\t\\t\\t\\t\\tfavorite jokes of the week.\\n\\n4\\n000:000:06,206 --> 000:000:09,242\\n\\t\\tHouse Speaker Paul Ryan \\t\\tannounced today\\n\\n5\\n000:000:09,242 --> 000:000:10,176\\n\\t\\t\\t\\the will not seek re-election\\n\\n6\\n000:000:10,176 --> 000:000:11,244\\n\\t\\t\\t\\t\\t\\tto spend more time with his family,\\n\\n7\\n000:000:11,244 --> 000:000:15,648\\n\\t\\tso now his family are the ones asking for thoughts and prayers.\\n\\n8\\n000:000:15,648 --> 000:000:16,216\\n\\t\\t\\t\\t[ Laughter ]\\n\\n9\\n000:000:16,216 --> 000:000:17,517\\n\\t\\t\\t\\tOfficials are \\t\\t\\t\\tlooking for a person\\n\\n10\\n000:000:17,517 --> 000:000:20,920\\n\\t\\t\\t\\t\\t\\taccused of stealing a rock \\t\\t\\t\\t\\t\\tsigned by Yoko Ono,\\n\\n11\\n000:000:20,920 --> 000:000:22,188\\n\\t\\t\\t\\t\\t\\tworth over $17,000.\\n\\n12\\n000:000:22,188 --> 000:000:24,057\\n\\t\\t\\t\\t\\t\\tThough, to be fair, \\t\\t\\t\\tit originally\\n\\n13\\n000:000:24,057 --> 000:000:27,227\\nwas part of a rock group which Yoko Ono broke up.\\n\\n14\\n000:000:27,227 --> 000:000:27,894\\n\\t\\t\\t\\t\\t\\t[ Audience groans ]\\n\\n15\\n000:000:27,894 --> 000:000:30,130\\nFacebook founder Mark Zuckerberg testified before\\n\\n16\\n000:000:30,130 --> 000:000:33,566\\n\\t\\ta joint Senate Commerce \\t\\t\\t\\tand Judiciary Committee today\\n\\n17\\n000:000:33,566 --> 000:000:34,868\\n\\t\\t\\t\\tin front of a bunch of people\\n\\n18\\n000:000:34,868 --> 000:000:37,804\\n\\t\\twhose password is definitely \"password.\"\\n\\n19\\n000:000:37,804 --> 000:000:38,338\\n\\t\\t\\t\\t[ Laughter ]\\n\\n20\\n000:000:38,338 --> 000:000:40,907\\nHomeland Security Adviser \\t\\t\\t\\t\\t\\tTom Bossert resigned today.\\n\\n21\\n000:000:40,907 --> 000:000:43,777\\n\\t\\t\\t\\t\\t\\tWow. At this rate, \\t\\tTrump\\'s gonna run out of people\\n\\n22\\n000:000:43,777 --> 000:000:45,178\\n\\t\\t\\t\\twho will want to work \\t\\t\\t\\t\\t\\tin the White House,\\n\\n23\\n000:000:45,178 --> 000:000:48,381\\n\\t\\t\\t\\t\\t\\tand he\\'s gonna have to hire Hillary Clinton himself.\\n\\n24\\n000:000:48,381 --> 000:000:48,915\\n\\t\\t\\t\\t[ Laughter ]\\n\\n25\\n000:000:48,915 --> 000:000:52,052\\n\\t\\t\\t\\tAccording to reports, Facebook founder Mark Zuckerberg\\n\\n26\\n000:000:52,052 --> 000:000:55,255\\n\\t\\t\\t\\tsat on a 4-inch-thick cushion\\n\\n27\\n000:000:55,255 --> 000:000:58,958\\n\\t\\t\\t\\t\\t\\tto boost his height during \\t\\this Senate testimony yesterday.\\n\\n28\\n000:000:58,958 --> 000:001:01,995\\nSaid Zuckerberg, \\t\\t\\t\\t\\t\\t\"Oh, no, that\\'s my wallet.\"\\n\\n29\\n000:001:01,995 --> 000:001:03,096\\n\\t\\t\\t\\t[ Laughter ]\\n\\n30\\n000:001:03,096 --> 000:001:09,969\\n\\t\\t\\t\\t\\t\\t♪♪♪♪'"
      ]
     },
     "execution_count": 46,
     "metadata": {},
     "output_type": "execute_result"
    }
   ],
   "source": [
    "captions.xml_caption_to_srt(clean_cap)"
   ]
  },
  {
   "cell_type": "code",
   "execution_count": 1,
   "metadata": {
    "collapsed": true
   },
   "outputs": [],
   "source": [
    "import sys\n",
    "import os\n",
    "sys.path.append(os.path.abspath('../py')) \n",
    "import youtube_api as yt"
   ]
  },
  {
   "cell_type": "code",
   "execution_count": 2,
   "metadata": {},
   "outputs": [],
   "source": [
    "caps = yt.get_captions('l5LwnDv9SuQ')"
   ]
  },
  {
   "cell_type": "code",
   "execution_count": 3,
   "metadata": {},
   "outputs": [
    {
     "data": {
      "text/plain": [
       "'The President:  My fellow Americans, the federal government is charged  with the sacred duties of protecting our nation, supporting our Constitution, and defending our borders. We also have to ensure the equal application of our laws in all 50 states. Last year, politicians in California violated the Constitution by nullifying federal law and declaring their state to be a sanctuary from federal  immigration enforcement. A border-free zone thousands of criminal aliens can roam free, a very,  very dangerous situation. Unacceptable to everyone. Their actions not only imperil  the security of the people of California, but the security of the entire nation. California&#39;s sanctuary bill should be called &quot;The Jailbreak Bill,&quot; because that&#39;s exactly what it is. They force the release of dangerous criminal aliens from prisons and jails, including drug traffickers and dealers responsible for the deaths of countless Americans. It&#39;s gotten totally out of control. We can&#39;t allow it to go on. California&#39;s law also increases  our vulnerability to terrorism by keeping lifesaving information from federal authorities. The relationship is ridiculous. It forces law enforcement not to work together. Last week, the citizens of Orange County, California bravely resisted the open borders politicians in Sacramento. The range County Board of Supervisors courageously voted to join the administration&#39;s lawsuit to stop these dangerous and unconstitutional actions. All across California and all over America, everyday citizens are taking a stand to protect their families, protect their borders,  and protect their country. Every citizen has the right to be protected by federal law, and when politicians in California break those laws, they violate  the constitutional rights of their citizens. My message to communities under siege from drugs and gangs and violence is, &quot;You can stop this,  and you can stop it cold.&quot; Partner with the federal government so we can help to remove these threats from your communities and restore peace to our streets. I&#39;m also calling on Congress to immediately close the deadly border security loopholes that endanger our country. All over our country, we&#39;re living with laws that don&#39;t work. Congress has to change them. Democrats in Congress are doing everything in their power to undermine immigration enforcement and encourage illegal immigration. Their policies are putting all of America at risk. It is so bad, it&#39;s hard to believe what they&#39;re doing and why they&#39;re doing it. We can&#39;t let it continue. The Democrats are not doing  what&#39;s right for our country. I will not rest until we have secured our borders and restored the rule of law. We will win, and we will soon. It&#39;s happening.'"
      ]
     },
     "execution_count": 3,
     "metadata": {},
     "output_type": "execute_result"
    }
   ],
   "source": [
    "caps"
   ]
  },
  {
   "cell_type": "code",
   "execution_count": null,
   "metadata": {
    "collapsed": true
   },
   "outputs": [],
   "source": []
  }
 ],
 "metadata": {
  "kernelspec": {
   "display_name": "Python 3",
   "language": "python",
   "name": "python3"
  },
  "language_info": {
   "codemirror_mode": {
    "name": "ipython",
    "version": 3
   },
   "file_extension": ".py",
   "mimetype": "text/x-python",
   "name": "python",
   "nbconvert_exporter": "python",
   "pygments_lexer": "ipython3",
   "version": "3.6.3"
  }
 },
 "nbformat": 4,
 "nbformat_minor": 2
}
